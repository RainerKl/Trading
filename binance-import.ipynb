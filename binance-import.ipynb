{
 "cells": [
  {
   "cell_type": "code",
   "execution_count": null,
   "metadata": {},
   "outputs": [],
   "source": [
    "# Imports crypto currency pair OHLCV data from binance\n",
    "# Saves as .csv formatted specifically for RealTest"
   ]
  },
  {
   "cell_type": "code",
   "execution_count": 9,
   "metadata": {},
   "outputs": [],
   "source": [
    "import ccxt\n",
    "import pandas as pd\n",
    "\n",
    "# All tickers must be the format ---> 'BASE/QUOTE' <----\n",
    "# You can add non USDT pairs, such as 'BTC/BNB' etc\n",
    "# However, that may get confusing.\n",
    "\n",
    "tickers = ['BTC/USDT', 'ETH/USDT', 'XRP/USDT']\n",
    "timeframe = '1d'    # 1d 1h 5m etc\n",
    "since = 100         # how many days do you want data for \n",
    "\n",
    "# Depending on your operating system and setup, this may take some trial and error.\n",
    "# With nothing below it outputs in the current directory.\n",
    "# Include a / at the end if you are naming the folder to use.\n",
    "# filepath = os.path.abspath('')\n",
    "filepath = 'D:/Code/Trading/'\n"
   ]
  },
  {
   "cell_type": "code",
   "execution_count": 3,
   "metadata": {},
   "outputs": [],
   "source": [
    "\n",
    "\n",
    "    # Fetch OHLCV data \n",
    "    #\n",
    "    #  @staticmethod\n",
    "def fetchOHLCVData(symbol: str, timeframe: str, days: int = 30) -> list:\n",
    "        exchange = ccxt.binance({\n",
    "           'timeout': 10000,\n",
    "           'enableRateLimit': True,\n",
    "           'rateLimit': 250,            # don't lower this... you can get IP banned.\n",
    "           'options': {\n",
    "               'defaultType': 'future',\n",
    "            \n",
    "           }\n",
    "       })\n",
    "        exchange.loadMarkets()\n",
    "\n",
    "        # Get all OHLCV data since\n",
    "        since = exchange.milliseconds() - days * 24 * 60 * 60 * 1000\n",
    "\n",
    "        # Data container\n",
    "        ohlcv_data = []\n",
    "\n",
    "        # Paginate through data\n",
    "        while since < exchange.milliseconds():\n",
    "\n",
    "            #Fetch OHLCV data\n",
    "            ohlcv =  exchange.fetchOHLCV(symbol, timeframe=timeframe, since=since)\n",
    "\n",
    "            # Did we received enough valid data\n",
    "            if ohlcv and len(ohlcv) > 1:\n",
    "                since = ohlcv[-1][0] + (ohlcv[-1][0] - ohlcv[-2][0])\n",
    "\n",
    "                # Append OHLCV data\n",
    "                ohlcv_data += ohlcv\n",
    "            else:\n",
    "                break\n",
    "\n",
    "        # Return OHLCV data\n",
    "        return ohlcv_data\n"
   ]
  },
  {
   "cell_type": "code",
   "execution_count": 4,
   "metadata": {},
   "outputs": [],
   "source": [
    "def data_to_df(data):\n",
    "    df = pd.DataFrame(data, columns=['Timestamp', 'Open', 'High', 'Low', 'Close', 'Volume'])\n",
    "    df['Timestamp'] = pd.to_datetime(df.Timestamp, unit='ms')\n",
    "    df = df.set_index('Timestamp')\n",
    "    return df"
   ]
  },
  {
   "cell_type": "code",
   "execution_count": 10,
   "metadata": {},
   "outputs": [
    {
     "name": "stdout",
     "output_type": "stream",
     "text": [
      "BTCUSDT updated.\n",
      "ETHUSDT updated.\n",
      "XRPUSDT updated.\n",
      "3 tickers chosen, 3 updated.\n"
     ]
    }
   ],
   "source": [
    "counter = 0\n",
    "for coin in tickers:\n",
    "    data = fetchOHLCVData(coin, timeframe, since)\n",
    "    df = data_to_df(data)\n",
    "    coin = coin.replace(\"/\",\"\")\n",
    "    df.to_csv(f'{filepath}{coin}.CSV')\n",
    "    counter +=1\n",
    "    print(f'{coin} updated.')\n",
    "    # print(df.tail(2))\n",
    "\n",
    "print(f'{len(tickers)} tickers chosen, {counter} updated.')"
   ]
  }
 ],
 "metadata": {
  "interpreter": {
   "hash": "0a7d1dd6c2ca8aa2f6b8c77e5b98535f702a4c5a801df20500bdb2065ffe99d1"
  },
  "kernelspec": {
   "display_name": "Python 3.8.5 32-bit",
   "name": "python3"
  },
  "language_info": {
   "codemirror_mode": {
    "name": "ipython",
    "version": 3
   },
   "file_extension": ".py",
   "mimetype": "text/x-python",
   "name": "python",
   "nbconvert_exporter": "python",
   "pygments_lexer": "ipython3",
   "version": "3.8.5"
  },
  "orig_nbformat": 4
 },
 "nbformat": 4,
 "nbformat_minor": 2
}
